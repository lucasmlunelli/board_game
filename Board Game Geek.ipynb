{
 "cells": [
  {
   "cell_type": "markdown",
   "metadata": {},
   "source": [
    "# Board Game Geek Ratings"
   ]
  },
  {
   "cell_type": "markdown",
   "metadata": {},
   "source": [
    "Load packages"
   ]
  },
  {
   "cell_type": "code",
   "execution_count": 1,
   "metadata": {},
   "outputs": [],
   "source": [
    "import pandas as pd\n",
    "\n",
    "# ignore warnings\n",
    "import warnings\n",
    "warnings.filterwarnings('ignore') \n",
    "\n",
    "# pandas defaults\n",
    "pd.set_option('display.max_rows', 10)\n",
    "pd.set_option('display.max_columns', 500)"
   ]
  },
  {
   "cell_type": "markdown",
   "metadata": {},
   "source": [
    "Load data (from https://www.kaggle.com/jvanelteren/boardgamegeek-reviews)"
   ]
  },
  {
   "cell_type": "code",
   "execution_count": 2,
   "metadata": {},
   "outputs": [],
   "source": [
    "bg = pd.read_csv('games_detailed_info.csv')\n",
    "\n",
    "# keep relevant fields\n",
    "bg_clean = bg[['id', 'primary', 'description', 'yearpublished', 'minplayers', 'maxplayers',\n",
    "               'suggested_num_players', 'suggested_playerage', 'suggested_language_dependence', 'playingtime', \n",
    "               'boardgamecategory', 'boardgamemechanic', 'boardgamedesigner', 'usersrated', 'average', 'bayesaverage',\n",
    "               'stddev', 'owned', 'wanting', 'wishing', 'numcomments', 'numweights', 'averageweight', 'Board Game Rank', \n",
    "               'Strategy Game Rank', 'Family Game Rank', 'Party Game Rank', 'Abstract Game Rank', 'Thematic Rank', \n",
    "               'War Game Rank', 'Customizable Rank']].sort_values('usersrated', ascending=False).reset_index()\n",
    "\n",
    "# keep only top 1000 most rated games\n",
    "bg_clean = bg_clean[bg_clean['index']<1000]"
   ]
  },
  {
   "cell_type": "markdown",
   "metadata": {},
   "source": [
    "Avoid duplicate board game names"
   ]
  },
  {
   "cell_type": "code",
   "execution_count": 3,
   "metadata": {},
   "outputs": [],
   "source": [
    "# get all games\n",
    "list_bg = bg_clean[['primary','yearpublished']]\n",
    "\n",
    "# shows with unique names\n",
    "only_unique = list_bg.drop_duplicates(['primary'], keep=False)\n",
    "only_unique['board_game'] = only_unique['primary']\n",
    "\n",
    "# shows with duplicated names\n",
    "duplicated = list_bg[list_bg.duplicated(['primary'], keep=False)]\n",
    "duplicated['board_game'] = duplicated['primary']+' ('+duplicated['yearpublished'].astype(str)+')'\n",
    "\n",
    "# join all data together\n",
    "new_names = pd.concat([only_unique, duplicated])\n",
    "games = pd.merge(bg_clean, new_names, on=['primary', 'yearpublished'])"
   ]
  },
  {
   "cell_type": "markdown",
   "metadata": {},
   "source": [
    "Parse fields that have multiple values and put it in columns"
   ]
  },
  {
   "cell_type": "code",
   "execution_count": 4,
   "metadata": {},
   "outputs": [],
   "source": [
    "type = pd.melt(bg_clean,id_vars=['index'], value_vars=['Strategy Game Rank','Family Game Rank',\n",
    "                                                       'Party Game Rank','Abstract Game Rank','Thematic Rank',\n",
    "                                                       'War Game Rank','Customizable Rank'],\n",
    "            var_name='var_new_name',value_name='value_new_name')\n",
    "type = type[type['value_new_name'].notna()]\n",
    "type['type'] = type['var_new_name'].str.replace(\" Game Rank\" ,'').str.replace(\"Rank\" ,'')\n",
    "type['type'] = type['type'].str.strip()\n",
    "type = type[['index', 'type']]"
   ]
  },
  {
   "cell_type": "code",
   "execution_count": 5,
   "metadata": {},
   "outputs": [],
   "source": [
    "designer = bg_clean['boardgamedesigner'].str.split(\"',\", expand=True).reset_index()\n",
    "designer = pd.melt(designer,id_vars=['index'], value_vars=[0, 1, 2, 3, 4, 5, 6, 7],\n",
    "            var_name='var_new_name',value_name='value_new_name')\n",
    "designer = designer[designer['value_new_name'].notna()]\n",
    "designer['value_new_name'] = designer['value_new_name'].str.replace(\"'\" ,'').str.replace(\"[\" ,'').str.replace(\"]\" ,'').str.replace('\"' ,'')\n",
    "designer['designer'] = designer['value_new_name'].str.strip()\n",
    "designer = designer[['index', 'designer']]"
   ]
  },
  {
   "cell_type": "code",
   "execution_count": 6,
   "metadata": {},
   "outputs": [],
   "source": [
    "category = bg_clean['boardgamecategory'].str.split(\"',\", expand=True).reset_index()\n",
    "category = pd.melt(category,id_vars=['index'], value_vars=[0, 1, 2, 3, 4, 5, 6, 7],\n",
    "            var_name='var_new_name',value_name='value_new_name')\n",
    "category = category[category['value_new_name'].notna()]\n",
    "category['category'] = category['value_new_name'].str.replace(\"'\" ,'').str.replace(\"[\" ,'').str.replace(\"]\" ,'')\n",
    "category['category'] = category['category'].str.strip()\n",
    "category = category[['index', 'category']]\n",
    "\n",
    "# remove uncommon categories\n",
    "count = category.groupby(['category']).agg(count= ('index', 'count')).reset_index()\n",
    "category = pd.merge(category, count[count['count']>=15][['category']], on='category')"
   ]
  },
  {
   "cell_type": "code",
   "execution_count": 7,
   "metadata": {
    "scrolled": true
   },
   "outputs": [],
   "source": [
    "mechanic = bg_clean['boardgamemechanic'].str.split(\"',\", expand=True).reset_index()\n",
    "mechanic = pd.melt(mechanic,id_vars=['index'], value_vars=[0, 1, 2, 3, 4, 5, 6, 7, 8, 9, 10, 11, 12, 13, 14, 15, 16],\n",
    "            var_name='var_new_name',value_name='value_new_name')\n",
    "mechanic = mechanic[mechanic['value_new_name'].notna()]\n",
    "mechanic['value_new_name'] = mechanic['value_new_name'].str.replace(\"'\" ,'').str.replace(\"[\" ,'').str.replace(\"]\" ,'').str.replace('\"' ,'')\n",
    "mechanic['mechanic'] = mechanic['value_new_name'].str.strip() \n",
    "mechanic = mechanic[['index', 'mechanic']]\n",
    "\n",
    "# remove uncommon mechanics\n",
    "count = mechanic.groupby(['mechanic']).agg(count= ('index', 'count')).reset_index()\n",
    "mechanic = pd.merge(mechanic, count[count['count']>=15][['mechanic']], on='mechanic')"
   ]
  },
  {
   "cell_type": "markdown",
   "metadata": {},
   "source": [
    "Join everything (easier to work on Google Data Studio)"
   ]
  },
  {
   "cell_type": "code",
   "execution_count": 8,
   "metadata": {},
   "outputs": [],
   "source": [
    "games_final = pd.merge(games, type, on='index', how='left')\n",
    "games_final = pd.merge(games_final, category, on='index', how='left')\n",
    "games_final = pd.merge(games_final, mechanic, on='index', how='left')\n",
    "games_final = pd.merge(games_final, designer, on='index', how='left')\n",
    "\n",
    "# remove unwanted fields\n",
    "drop = bg[['primary', 'suggested_playerage', 'suggested_language_dependence', 'suggested_num_players',\n",
    "           'boardgamecategory', 'boardgamemechanic', 'boardgamedesigner', 'description',\n",
    "           'Strategy Game Rank', 'Family Game Rank', 'Party Game Rank', \n",
    "           'Abstract Game Rank', 'Thematic Rank', 'War Game Rank', 'Customizable Rank']]\n",
    "games_final.drop(drop, axis = 1, inplace=True )"
   ]
  },
  {
   "cell_type": "markdown",
   "metadata": {},
   "source": [
    "Save data"
   ]
  },
  {
   "cell_type": "code",
   "execution_count": 9,
   "metadata": {},
   "outputs": [
    {
     "data": {
      "text/html": [
       "<div>\n",
       "<style scoped>\n",
       "    .dataframe tbody tr th:only-of-type {\n",
       "        vertical-align: middle;\n",
       "    }\n",
       "\n",
       "    .dataframe tbody tr th {\n",
       "        vertical-align: top;\n",
       "    }\n",
       "\n",
       "    .dataframe thead th {\n",
       "        text-align: right;\n",
       "    }\n",
       "</style>\n",
       "<table border=\"1\" class=\"dataframe\">\n",
       "  <thead>\n",
       "    <tr style=\"text-align: right;\">\n",
       "      <th></th>\n",
       "      <th>index</th>\n",
       "      <th>id</th>\n",
       "      <th>yearpublished</th>\n",
       "      <th>minplayers</th>\n",
       "      <th>maxplayers</th>\n",
       "      <th>playingtime</th>\n",
       "      <th>usersrated</th>\n",
       "      <th>average</th>\n",
       "      <th>bayesaverage</th>\n",
       "      <th>stddev</th>\n",
       "      <th>owned</th>\n",
       "      <th>wanting</th>\n",
       "      <th>wishing</th>\n",
       "      <th>numcomments</th>\n",
       "      <th>numweights</th>\n",
       "      <th>averageweight</th>\n",
       "      <th>Board Game Rank</th>\n",
       "      <th>board_game</th>\n",
       "      <th>type</th>\n",
       "      <th>category</th>\n",
       "      <th>mechanic</th>\n",
       "      <th>designer</th>\n",
       "    </tr>\n",
       "  </thead>\n",
       "  <tbody>\n",
       "    <tr>\n",
       "      <th>0</th>\n",
       "      <td>0</td>\n",
       "      <td>30549</td>\n",
       "      <td>2008</td>\n",
       "      <td>2</td>\n",
       "      <td>4</td>\n",
       "      <td>45</td>\n",
       "      <td>96241</td>\n",
       "      <td>7.61567</td>\n",
       "      <td>7.51795</td>\n",
       "      <td>1.32632</td>\n",
       "      <td>144727</td>\n",
       "      <td>640</td>\n",
       "      <td>8571</td>\n",
       "      <td>15778</td>\n",
       "      <td>5232</td>\n",
       "      <td>2.4148</td>\n",
       "      <td>91</td>\n",
       "      <td>Pandemic</td>\n",
       "      <td>Strategy</td>\n",
       "      <td>NaN</td>\n",
       "      <td>Action Points</td>\n",
       "      <td>Matt Leacock</td>\n",
       "    </tr>\n",
       "    <tr>\n",
       "      <th>1</th>\n",
       "      <td>0</td>\n",
       "      <td>30549</td>\n",
       "      <td>2008</td>\n",
       "      <td>2</td>\n",
       "      <td>4</td>\n",
       "      <td>45</td>\n",
       "      <td>96241</td>\n",
       "      <td>7.61567</td>\n",
       "      <td>7.51795</td>\n",
       "      <td>1.32632</td>\n",
       "      <td>144727</td>\n",
       "      <td>640</td>\n",
       "      <td>8571</td>\n",
       "      <td>15778</td>\n",
       "      <td>5232</td>\n",
       "      <td>2.4148</td>\n",
       "      <td>91</td>\n",
       "      <td>Pandemic</td>\n",
       "      <td>Strategy</td>\n",
       "      <td>NaN</td>\n",
       "      <td>Hand Management</td>\n",
       "      <td>Matt Leacock</td>\n",
       "    </tr>\n",
       "    <tr>\n",
       "      <th>2</th>\n",
       "      <td>0</td>\n",
       "      <td>30549</td>\n",
       "      <td>2008</td>\n",
       "      <td>2</td>\n",
       "      <td>4</td>\n",
       "      <td>45</td>\n",
       "      <td>96241</td>\n",
       "      <td>7.61567</td>\n",
       "      <td>7.51795</td>\n",
       "      <td>1.32632</td>\n",
       "      <td>144727</td>\n",
       "      <td>640</td>\n",
       "      <td>8571</td>\n",
       "      <td>15778</td>\n",
       "      <td>5232</td>\n",
       "      <td>2.4148</td>\n",
       "      <td>91</td>\n",
       "      <td>Pandemic</td>\n",
       "      <td>Strategy</td>\n",
       "      <td>NaN</td>\n",
       "      <td>Cooperative Game</td>\n",
       "      <td>Matt Leacock</td>\n",
       "    </tr>\n",
       "    <tr>\n",
       "      <th>3</th>\n",
       "      <td>0</td>\n",
       "      <td>30549</td>\n",
       "      <td>2008</td>\n",
       "      <td>2</td>\n",
       "      <td>4</td>\n",
       "      <td>45</td>\n",
       "      <td>96241</td>\n",
       "      <td>7.61567</td>\n",
       "      <td>7.51795</td>\n",
       "      <td>1.32632</td>\n",
       "      <td>144727</td>\n",
       "      <td>640</td>\n",
       "      <td>8571</td>\n",
       "      <td>15778</td>\n",
       "      <td>5232</td>\n",
       "      <td>2.4148</td>\n",
       "      <td>91</td>\n",
       "      <td>Pandemic</td>\n",
       "      <td>Strategy</td>\n",
       "      <td>NaN</td>\n",
       "      <td>Set Collection</td>\n",
       "      <td>Matt Leacock</td>\n",
       "    </tr>\n",
       "    <tr>\n",
       "      <th>4</th>\n",
       "      <td>0</td>\n",
       "      <td>30549</td>\n",
       "      <td>2008</td>\n",
       "      <td>2</td>\n",
       "      <td>4</td>\n",
       "      <td>45</td>\n",
       "      <td>96241</td>\n",
       "      <td>7.61567</td>\n",
       "      <td>7.51795</td>\n",
       "      <td>1.32632</td>\n",
       "      <td>144727</td>\n",
       "      <td>640</td>\n",
       "      <td>8571</td>\n",
       "      <td>15778</td>\n",
       "      <td>5232</td>\n",
       "      <td>2.4148</td>\n",
       "      <td>91</td>\n",
       "      <td>Pandemic</td>\n",
       "      <td>Strategy</td>\n",
       "      <td>NaN</td>\n",
       "      <td>Point to Point Movement</td>\n",
       "      <td>Matt Leacock</td>\n",
       "    </tr>\n",
       "  </tbody>\n",
       "</table>\n",
       "</div>"
      ],
      "text/plain": [
       "   index     id  yearpublished  minplayers  maxplayers  playingtime  \\\n",
       "0      0  30549           2008           2           4           45   \n",
       "1      0  30549           2008           2           4           45   \n",
       "2      0  30549           2008           2           4           45   \n",
       "3      0  30549           2008           2           4           45   \n",
       "4      0  30549           2008           2           4           45   \n",
       "\n",
       "   usersrated  average  bayesaverage   stddev   owned  wanting  wishing  \\\n",
       "0       96241  7.61567       7.51795  1.32632  144727      640     8571   \n",
       "1       96241  7.61567       7.51795  1.32632  144727      640     8571   \n",
       "2       96241  7.61567       7.51795  1.32632  144727      640     8571   \n",
       "3       96241  7.61567       7.51795  1.32632  144727      640     8571   \n",
       "4       96241  7.61567       7.51795  1.32632  144727      640     8571   \n",
       "\n",
       "   numcomments  numweights  averageweight  Board Game Rank board_game  \\\n",
       "0        15778        5232         2.4148               91   Pandemic   \n",
       "1        15778        5232         2.4148               91   Pandemic   \n",
       "2        15778        5232         2.4148               91   Pandemic   \n",
       "3        15778        5232         2.4148               91   Pandemic   \n",
       "4        15778        5232         2.4148               91   Pandemic   \n",
       "\n",
       "       type category                 mechanic      designer  \n",
       "0  Strategy      NaN            Action Points  Matt Leacock  \n",
       "1  Strategy      NaN          Hand Management  Matt Leacock  \n",
       "2  Strategy      NaN         Cooperative Game  Matt Leacock  \n",
       "3  Strategy      NaN           Set Collection  Matt Leacock  \n",
       "4  Strategy      NaN  Point to Point Movement  Matt Leacock  "
      ]
     },
     "execution_count": 9,
     "metadata": {},
     "output_type": "execute_result"
    }
   ],
   "source": [
    "games_final.to_excel('Board Game Geek.xlsx')\n",
    "games_final.head()"
   ]
  }
 ],
 "metadata": {
  "kernelspec": {
   "display_name": "Python 3",
   "language": "python",
   "name": "python3"
  },
  "language_info": {
   "codemirror_mode": {
    "name": "ipython",
    "version": 3
   },
   "file_extension": ".py",
   "mimetype": "text/x-python",
   "name": "python",
   "nbconvert_exporter": "python",
   "pygments_lexer": "ipython3",
   "version": "3.7.6"
  }
 },
 "nbformat": 4,
 "nbformat_minor": 4
}
